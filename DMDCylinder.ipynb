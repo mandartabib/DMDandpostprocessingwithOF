{
 "cells": [
  {
   "cell_type": "markdown",
   "metadata": {},
   "source": [
    "# Import the dependencies and provide inputs\n",
    "1. Input specify the pathdir variable so that it points to the directory were i have the OF results with timesteps.\n",
    "2. Input name of directory to save results to : example - listdir('../DMD_predictions')\n",
    "3. Specify 2D grid size:  It could be a 2D simulation or a 3D with single grid in third direction.Grid size:  n  = [120,70] , nx and ny.\n",
    "4. Specify start time : startt\n",
    "5. Specify r : number of modes 6. Note: The polymesh folder should have same number of cells"
   ]
  },
  {
   "cell_type": "code",
   "execution_count": 1,
   "metadata": {},
   "outputs": [
    {
     "data": {
      "application/javascript": [
       "IPython.OutputArea.prototype._should_scroll = function(lines) {\n",
       "    return false;\n",
       "}"
      ],
      "text/plain": [
       "<IPython.core.display.Javascript object>"
      ]
     },
     "metadata": {},
     "output_type": "display_data"
    }
   ],
   "source": [
    "%%javascript\n",
    "IPython.OutputArea.prototype._should_scroll = function(lines) {\n",
    "    return false;\n",
    "}"
   ]
  },
  {
   "cell_type": "code",
   "execution_count": 2,
   "metadata": {
    "collapsed": true
   },
   "outputs": [],
   "source": [
    "import warnings\n",
    "warnings.filterwarnings('ignore')\n",
    "import scipy.io as sio\n",
    "import numpy as np\n",
    "import matplotlib.pyplot as plt\n",
    "import math as math\n",
    "from matplotlib import animation, rc\n",
    "from IPython.display import HTML, Image"
   ]
  },
  {
   "cell_type": "code",
   "execution_count": 3,
   "metadata": {
    "scrolled": true
   },
   "outputs": [
    {
     "name": "stdout",
     "output_type": "stream",
     "text": [
      "(5, 120, 70, 3)\n",
      "Reading example  ./Re265 :[                    ]<_io.TextIOWrapper name='./Re265/101./U' mode='r' encoding='UTF-8'>\n",
      "<_io.TextIOWrapper name='./Re265/101./p' mode='r' encoding='UTF-8'>\n",
      "\b                    ]<_io.TextIOWrapper name='./Re265/102.0/U' mode='r' encoding='UTF-8'>\n",
      "<_io.TextIOWrapper name='./Re265/102.0/p' mode='r' encoding='UTF-8'>\n",
      "\b#####               ]<_io.TextIOWrapper name='./Re265/103./U' mode='r' encoding='UTF-8'>\n",
      "<_io.TextIOWrapper name='./Re265/103./p' mode='r' encoding='UTF-8'>\n",
      "\b##########          ]<_io.TextIOWrapper name='./Re265/104.2/U' mode='r' encoding='UTF-8'>\n",
      "<_io.TextIOWrapper name='./Re265/104.2/p' mode='r' encoding='UTF-8'>\n",
      "\b###############     ]<_io.TextIOWrapper name='./Re265/105./U' mode='r' encoding='UTF-8'>\n",
      "<_io.TextIOWrapper name='./Re265/105./p' mode='r' encoding='UTF-8'>\n",
      "\b####################]\n",
      "(4, 120, 70, 3)\n",
      "U1shape\n",
      "(4, 8400)\n",
      "P1shape\n",
      "(4, 8400)\n",
      "(8400, 4)\n"
     ]
    }
   ],
   "source": [
    "import os\n",
    "import sys\n",
    "from os.path import isdir, isfile, join\n",
    "import numpy as np\n",
    "import re\n",
    "\n",
    "pathdir = './Re265'\n",
    "n       = [120,70] # grid size\n",
    "startt=1\n",
    "\n",
    "def read_field_from_file(time, field):\n",
    "    resultFile = open(join(pathdir, time, field))\n",
    "    \n",
    "    print(resultFile)\n",
    "#    import time\n",
    "#    time.sleep(10)\n",
    "\n",
    "    content = resultFile.readlines() # read entire file into memory\n",
    "    resultFile.close()\n",
    "    npt     = int(content[20])       # number of result points hardcoded to line 21\n",
    "\n",
    "    # if results are within (), then they are vector values\n",
    "    if content[22][0] == '(':\n",
    "        return np.array([np.fromstring(value[1:-1], sep=' ') for value in content[22:22+npt]])\n",
    "    # else scalar values\n",
    "    else:\n",
    "        return np.array([float(value)                        for value in content[22:22+npt]])\n",
    "\n",
    "\n",
    "def read_input_case(path):\n",
    "    list_of_number_folders = [d for d in os.listdir(path) if re.match('\\d', d)]\n",
    "    time_steps = sorted(list_of_number_folders, key=lambda x: float(x))\n",
    "\n",
    "    U   = np.zeros((len(time_steps)-1, n[0], n[1], 3))\n",
    "    print(U.shape)\n",
    "    P   = np.zeros((len(time_steps)-1, n[0], n[1], 1))\n",
    "    ncase = len(time_steps)-2\n",
    "    print('Reading example ', path, ':[                    ]', end='', flush=True)\n",
    "    # sys.stdout.flush()\n",
    "    \n",
    "    for i,t in enumerate(time_steps[1:]): # skip t=0 since this only contains meta information\n",
    "        u = read_field_from_file(t, 'U')\n",
    "        p = read_field_from_file(t, 'p')\n",
    "        #print(u.shape,'ushape')\n",
    "        U[i,:,:,:] = np.reshape(u, (n[0],n[1],3), order='F')\n",
    "        P[i,:,:,:] = np.reshape(p, (n[0],n[1],1), order='F')\n",
    "        j = int(i/ncase*20)\n",
    "        print(''.join(['\\b']*21 + ['#']*j + [' ']*(20-j) + [']']), end='', flush=True)\n",
    "    print()\n",
    "\n",
    "    t = [float(t) for t in time_steps[1:]]\n",
    "\n",
    "    return (U,P,t)\n",
    "\n",
    "\n",
    "if __name__ == '__main__':\n",
    "    # read the test data from file\n",
    "    (U,P,t) = read_input_case(pathdir)\n",
    "    U1=U[startt:,:,:,0]\n",
    "    U=U[startt:,:,:,:]\n",
    "    P=P[startt:,:,:,:]\n",
    "    print(U.shape)\n",
    "    t=t[startt:]\n",
    "#    print(len(t))\n",
    "    U11=U1\n",
    "#    print(U.shape)\n",
    "#    print(len(t))\n",
    "#    print(P.shape)\n",
    "    # append the pressure as a solution field\n",
    "    U = np.append(U, P, axis=3)\n",
    "\n",
    "    # flatten input so all variables are mashed together (as a vector) for every timestep\n",
    "    U = np.reshape(U, (len(t), n[0]*n[1]*4))\n",
    "    P1 = np.reshape(P, (len(t), n[0]*n[1]))\n",
    "    U1 = np.reshape(U1, (len(t), n[0]*n[1]))\n",
    "    print('U1shape')\n",
    "    print(U1.shape)\n",
    "    \n",
    "    print('P1shape') \n",
    "    print(P1.shape)\n",
    "   \n",
    "  # transpose so time is your second axis\n",
    "    U = U.transpose()\n",
    "    P1 = P1.transpose()\n",
    "    U1 = U1.transpose()\n",
    "  \n",
    " # check that the dimensions are (33600, 195)\n",
    "    print(U1.shape)\n"
   ]
  },
  {
   "cell_type": "markdown",
   "metadata": {},
   "source": [
    "plt.imshow(U11[177,:,:],cmap='hsv',extent=[-20,80,-20,20])\n",
    "plt.show()"
   ]
  },
  {
   "cell_type": "markdown",
   "metadata": {},
   "source": [
    "from pylab import *\n",
    "pcolor(U11[1,:,:])\n",
    "plt.show()"
   ]
  },
  {
   "cell_type": "code",
   "execution_count": 4,
   "metadata": {
    "collapsed": true
   },
   "outputs": [],
   "source": [
    "#plt.imshow(U1[190,:,:].T,cmap='hsv',extent=[-20,80,-20,20])\n",
    "#origin='lower',\n",
    "#plt.show()\n",
    "#print(P1.shape)"
   ]
  },
  {
   "cell_type": "code",
   "execution_count": 5,
   "metadata": {
    "collapsed": true
   },
   "outputs": [],
   "source": [
    "# equivalent to rcParams['animation.html'] = 'html5'\n",
    "rc('animation', html='html5')"
   ]
  },
  {
   "cell_type": "markdown",
   "metadata": {},
   "source": [
    "# Function for conducing DMD\n",
    "* Take the Singular Value Decomposition of X\n",
    "$$X\\approx U\\Sigma V^{*}$$\n",
    "\n",
    "* Truncate to low rank r\n",
    "\n",
    "* Compute $\\tilde{A}$\n",
    "\n",
    "$$\\tilde{A}=U^{*}X^{'}V\\Sigma^{-1}$$\n",
    "\n",
    "* Compute the eigendecomposition of $\\tilde{A}$\n",
    "\n",
    "$$\\tilde{A}W=W\\Lambda$$\n",
    "\n",
    "* Reconstruct the eigendecomposition of $A$ from $W$ and $\\Lambda$\n",
    "\n",
    "$$\\Phi=X^{'}V\\Sigma^{-1}W$$"
   ]
  },
  {
   "cell_type": "code",
   "execution_count": 6,
   "metadata": {
    "collapsed": true
   },
   "outputs": [],
   "source": [
    "def dmd(X,Xprime,r):\n",
    "    U,S,V = np.linalg.svd(X,full_matrices=False,compute_uv=True)\n",
    "    S=np.diag(S)\n",
    "    V=V.T\n",
    "    U=U[:,:r]\n",
    "    S=S[:r,:r]\n",
    "    V=V[:,:r]\n",
    "    Atilde = U.T.conj().dot(Xprime).dot(V).dot(np.linalg.inv(S))\n",
    "    eigs, W = np.linalg.eig(Atilde)\n",
    "    eigs=np.diag(eigs)\n",
    "    Phi = Xprime.dot(V).dot(np.linalg.inv(S)).dot(W)\n",
    "    return Phi,eigs, W"
   ]
  },
  {
   "cell_type": "markdown",
   "metadata": {},
   "source": [
    "# Plotting the eigen modes"
   ]
  },
  {
   "cell_type": "code",
   "execution_count": 7,
   "metadata": {
    "collapsed": true
   },
   "outputs": [],
   "source": [
    "def plot_all_cylinder(s,r):\n",
    "    theta = np.linspace(0,1,100)\n",
    "    theta = theta * 2*22.0/7.\n",
    "    x = 49.0+25.0*np.sin(theta)\n",
    "    y = 99.0+25.0*np.cos(theta)\n",
    "    counter = 0\n",
    "    plt.figure(figsize = (20,50))\n",
    "    for i in range (0,r,2):\n",
    "        counter = counter +1\n",
    "        plt.subplot(r,2,counter)\n",
    "        plt.imshow(np.real(s[:,:,i].T),cmap='hsv')\n",
    "        #plt.fill(x,y)\n",
    "        counter = counter + 1\n",
    "        plt.subplot(r,2,counter)\n",
    "        plt.imshow(np.imag(s[:,:,i].T),cmap='hsv')\n",
    "        #plt.fill(x,y)\n",
    "    plt.show()"
   ]
  },
  {
   "cell_type": "code",
   "execution_count": 8,
   "metadata": {
    "collapsed": true
   },
   "outputs": [],
   "source": [
    "def plot_all_cylinder_vort(s,r):\n",
    "    theta = np.linspace(0,1,100)\n",
    "    theta = theta * 2*22.0/7.\n",
    "    x = 49.0+25.0*np.sin(theta)\n",
    "    y = 99.0+25.0*np.cos(theta)\n",
    "    counter = 0\n",
    "    plt.figure(figsize = (20,50))\n",
    "    for i in range (0,r):\n",
    "        counter = counter +1\n",
    "        plt.subplot(r,2,counter)\n",
    "        plt.imshow(s[counter-1,:,:,0].T,cmap='hsv')\n",
    "        #plt.fill(x,y)\n",
    "        counter = counter + 1\n",
    "        plt.subplot(r,2,counter)\n",
    "        plt.imshow(s[counter,:,:,0].T,cmap='hsv')\n",
    "        #plt.fill(x,y)\n",
    "    plt.show()"
   ]
  },
  {
   "cell_type": "code",
   "execution_count": 9,
   "metadata": {},
   "outputs": [
    {
     "data": {
      "text/plain": [
       "(8400, 4)"
      ]
     },
     "execution_count": 9,
     "metadata": {},
     "output_type": "execute_result"
    }
   ],
   "source": [
    "np.shape(P1)"
   ]
  },
  {
   "cell_type": "code",
   "execution_count": 10,
   "metadata": {
    "collapsed": true
   },
   "outputs": [],
   "source": [
    "#plt.figure(figsize = (20,50))\n",
    "#plt.subplot(1,1,1)\n",
    "#plt.imshow(P[1,:,:,0].T,cmap='hsv',extent=[-20,80,-20,20])\n",
    "#plt.show()\n",
    "#plot_all_cylinder_vort(P1,r)"
   ]
  },
  {
   "cell_type": "markdown",
   "metadata": {},
   "source": [
    "# Read the CFD results snapshots"
   ]
  },
  {
   "cell_type": "code",
   "execution_count": 11,
   "metadata": {
    "collapsed": true
   },
   "outputs": [],
   "source": [
    "#contents=sio.loadmat('./CYLINDER_ALL.mat')\n",
    "#nx,ny,m,n = contents['nx'],contents['ny'],contents['m'],contents['n']\n",
    "#VORTALL = contents['VORTALL']\n",
    "#X  = VORTALL[:,0:150]\n",
    "#X2 = VORTALL[:,1:151\n",
    "length,end=np.shape(P1)\n",
    "X=U1[:,0:end-1]\n",
    "X2=U1[:,1:end]\n",
    "#m, n = np.asscalar(m), np.asscalar(n)\n",
    "#nx, ny = np.asscalar(nx), np.asscalar(ny)\n",
    "nx=70\n",
    "ny=120"
   ]
  },
  {
   "cell_type": "markdown",
   "metadata": {},
   "source": [
    "\n"
   ]
  },
  {
   "cell_type": "code",
   "execution_count": 12,
   "metadata": {},
   "outputs": [
    {
     "data": {
      "text/plain": [
       "8400"
      ]
     },
     "execution_count": 12,
     "metadata": {},
     "output_type": "execute_result"
    }
   ],
   "source": [
    "length"
   ]
  },
  {
   "cell_type": "code",
   "execution_count": 13,
   "metadata": {},
   "outputs": [
    {
     "data": {
      "text/plain": [
       "(8400, 3)"
      ]
     },
     "execution_count": 13,
     "metadata": {},
     "output_type": "execute_result"
    }
   ],
   "source": [
    "np.shape(X)"
   ]
  },
  {
   "cell_type": "code",
   "execution_count": 14,
   "metadata": {
    "collapsed": true
   },
   "outputs": [],
   "source": [
    "#Xorg = np.reshape(X,(ny,nx,end))\n",
    "#plot_all_cylinder_vort(Xorg,20)"
   ]
  },
  {
   "cell_type": "markdown",
   "metadata": {},
   "source": [
    "# We want to retain the 4 modes only"
   ]
  },
  {
   "cell_type": "code",
   "execution_count": 15,
   "metadata": {
    "collapsed": true
   },
   "outputs": [],
   "source": [
    "r =3"
   ]
  },
  {
   "cell_type": "markdown",
   "metadata": {},
   "source": [
    "# Conduct Dynamic Mode Decomposition"
   ]
  },
  {
   "cell_type": "code",
   "execution_count": 16,
   "metadata": {
    "collapsed": true
   },
   "outputs": [],
   "source": [
    "# Phi is the eigen modes, eigs is the eigenvalues and W is the eigenvector\n",
    "Phi, eigs, W = dmd(X,X2,r)"
   ]
  },
  {
   "cell_type": "code",
   "execution_count": 17,
   "metadata": {},
   "outputs": [
    {
     "data": {
      "image/png": "[encoded data removed]",
      "text/plain": [
       "<Figure size 432x288 with 1 Axes>"
      ]
     },
     "metadata": {},
     "output_type": "display_data"
    }
   ],
   "source": [
    "#Confirm if the modes are sorted\n",
    "#plt.figure(figsize = (10,20))\n",
    "plt.plot(np.diag(np.real(eigs)))\n",
    "plt.show()"
   ]
  },
  {
   "cell_type": "markdown",
   "metadata": {},
   "source": [
    "# Sort the eigen modes in the decreasing content of the energy"
   ]
  },
  {
   "cell_type": "code",
   "execution_count": 18,
   "metadata": {
    "collapsed": true
   },
   "outputs": [],
   "source": [
    "temp_eigs = np.diag(eigs)\n",
    "idx = temp_eigs.argsort()[::-1]\n",
    "temp_eigs = temp_eigs[idx]\n",
    "eigs = np.diag(temp_eigs)\n",
    "Phi = Phi[:,idx]"
   ]
  },
  {
   "cell_type": "code",
   "execution_count": 19,
   "metadata": {},
   "outputs": [
    {
     "data": {
      "image/png": "[encoded data removed]",
      "text/plain": [
       "<Figure size 432x288 with 1 Axes>"
      ]
     },
     "metadata": {},
     "output_type": "display_data"
    }
   ],
   "source": [
    "plt.plot(np.diag(np.real(eigs)))\n",
    "plt.show()"
   ]
  },
  {
   "cell_type": "code",
   "execution_count": 20,
   "metadata": {},
   "outputs": [
    {
     "data": {
      "text/plain": [
       "array([ 0.01164708+0.j        , -0.00024024-0.00016001j,\n",
       "       -0.00024024+0.00016001j])"
      ]
     },
     "execution_count": 20,
     "metadata": {},
     "output_type": "execute_result"
    }
   ],
   "source": [
    "Phi[190,::]"
   ]
  },
  {
   "cell_type": "markdown",
   "metadata": {},
   "source": [
    "# Plot the eigen modes"
   ]
  },
  {
   "cell_type": "code",
   "execution_count": 21,
   "metadata": {},
   "outputs": [
    {
     "name": "stdout",
     "output_type": "stream",
     "text": [
      "(8400, 3)\n",
      "(120, 70, 3)\n"
     ]
    }
   ],
   "source": [
    "print(Phi.shape)\n",
    "Phi = np.reshape(Phi,(ny,nx,r))\n",
    "print(Phi.shape)\n",
    "#plot_all_cylinder(Phi,r)"
   ]
  },
  {
   "cell_type": "code",
   "execution_count": 22,
   "metadata": {
    "scrolled": false
   },
   "outputs": [
    {
     "data": {
      "text/plain": [
       "(0.0010671521262314953+8.6303318283357613e-05j)"
      ]
     },
     "execution_count": 22,
     "metadata": {},
     "output_type": "execute_result"
    }
   ],
   "source": [
    "Phi[110,69,1]"
   ]
  },
  {
   "cell_type": "markdown",
   "metadata": {},
   "source": [
    "## In the next section, the computed eigen modes are treated as scalar (pressure) and written in OF format so that they can be visualized by paraview. "
   ]
  },
  {
   "cell_type": "code",
   "execution_count": 23,
   "metadata": {
    "collapsed": true
   },
   "outputs": [],
   "source": [
    "import os\n",
    "import sys\n",
    "from os.path import isdir, isfile, join\n",
    "import numpy as np\n",
    "import re"
   ]
  },
  {
   "cell_type": "code",
   "execution_count": 24,
   "metadata": {},
   "outputs": [
    {
     "name": "stdout",
     "output_type": "stream",
     "text": [
      "list ['101.']\n",
      "['101.']\n",
      "101.\n",
      "101.\n",
      "101.\n"
     ]
    }
   ],
   "source": [
    "def read_file_prefix(time, field):\n",
    "    resultFile = open(join(pathdir, time, field))\n",
    "    content = resultFile.readlines() # read entire file into memory\n",
    "    resultFile.close()\n",
    "    return content[:22]\n",
    "\n",
    "\n",
    "def read_file_postfix(time, field):\n",
    "    resultFile = open(join(pathdir, time, field))\n",
    "    content = resultFile.readlines() # read entire file into memory\n",
    "    resultFile.close()\n",
    "    npt     = int(content[20])       # number of result points hardcoded to line 21\n",
    "    return content[22+npt:]\n",
    "\n",
    "\n",
    "\n",
    "\n",
    "\n",
    "if __name__ == '__main__':\n",
    "    list_of_number_folders = [d for d in os.listdir('./DMD_predictions') if re.match('\\d', d)]\n",
    "    print('list',list_of_number_folders)\n",
    "    time_steps = sorted(list_of_number_folders, key=lambda x: float(x))\n",
    "    print(time_steps)\n",
    "    #print(time_steps[0])\n",
    "    prefix_u  = read_file_prefix( str(time_steps[0]), 'U')\n",
    "    postfix_u = read_file_postfix(str(time_steps[0]), 'U')\n",
    "    prefix_p  = read_file_prefix( str(time_steps[0]), 'p')\n",
    "    postfix_p = read_file_postfix(str(time_steps[0]), 'p')\n",
    "\n",
    "    t10=time_steps[0]\n",
    "    path1=\"./DMD_predictions\"\n",
    "if not os.path.exists(path1):\n",
    "    os.mkdir(path1);\n",
    "path1=\"./DMD_predictions/\" + str(t10)\n",
    "if not os.path.exists(path1):\n",
    "    os.mkdir(path1);\n",
    "    \n",
    "for Ph in range(Phi.shape[-1]):\n",
    "    # print(Ph)\n",
    "    for k,t0 in enumerate(time_steps):\n",
    "        # print progress info\n",
    "        print(t0)\n",
    "\n",
    "        folder = join('./DMD_predictions', str(t0))\n",
    "\n",
    "\n",
    "        U  = np.zeros((120,70,3)) # INPUT YOUR VELOCITY RESULTS ARRAY HERE\n",
    "        \n",
    "        #P  = np.zeros((120,70,1)) # INPUT YOUR PRESSURE RESULTS ARRAY HERE\n",
    "        \n",
    "        #INPUT YOUR PHI BELOW INPLACE OF PRESSURE\n",
    "        \n",
    "        P=np.real(Phi[:,:,:])\n",
    "    \n",
    "        \n",
    "        ## write velocity predictions (time series)\n",
    "        #resultFile = open(join(folder, 'V'), 'w')\n",
    "        #resultFile.writelines(prefix_u)\n",
    "        #for j in range(n[1]):\n",
    "        #    for i in range(n[0]):\n",
    "        #        resultFile.write('('+' '.join(map(str,U[i,j,:]))+')\\n')\n",
    "        #resultFile.writelines(postfix_u)\n",
    "        #resultFile.close()\n",
    "\n",
    "        # write pressure predictions (time series)\n",
    "        resultFile = open(join(folder, 'q'+str(Ph)), 'w')\n",
    "        resultFile.writelines(prefix_p)\n",
    "        for j in range(n[1]):\n",
    "            for i in range(n[0]):\n",
    "                resultFile.write(str(P[i,j,Ph])+'\\n')\n",
    "        resultFile.writelines(postfix_p)\n",
    "        resultFile.close()"
   ]
  },
  {
   "cell_type": "markdown",
   "metadata": {
    "collapsed": true
   },
   "source": [
    "def plot_cylinder(s):\n",
    "    plt.figure()\n",
    "    plt.imshow(s,cmap='hsv',hold='on')\n",
    "    theta = np.linspace(0,1,100)\n",
    "    theta = theta * 2*22.0/7.\n",
    "    x = 49.0+25.0*np.sin(theta)\n",
    "    y = 99.0+25.0*np.cos(theta)\n",
    "    plt.fill(x,y)\n",
    "    plt.show()"
   ]
  },
  {
   "cell_type": "markdown",
   "metadata": {},
   "source": [
    "\n",
    "# ## After loading in paraview. Save the screenshot as png and you can see them here. "
   ]
  },
  {
   "cell_type": "markdown",
   "metadata": {},
   "source": [
    "from IPython.display import Image\n",
    "from IPython.display import display\n",
    "#image.open(../DMD_predictions/q0)\n",
    "a=Image(filename='../DMD_predictions/q0.png')\n",
    "b=Image(filename='../DMD_predictions/q2.png')\n",
    "c=Image(filename='../DMD_predictions/q4.png')\n",
    "d=Image(filename='../DMD_predictions/q6.png')\n",
    "display(a,b)\n",
    "display(c,d)"
   ]
  },
  {
   "cell_type": "markdown",
   "metadata": {},
   "source": [
    "import glob\n",
    "import matplotlib.pyplot as plt\n",
    "import matplotlib.image as mpimg\n",
    "%matplotlib inline\n",
    "\n",
    "images = []\n",
    "for img_path in glob.glob('../DMD_predictions/*.png'):\n",
    "    images.append(mpimg.imread(img_path))\n",
    "\n",
    "plt.figure(figsize=(20,10))\n",
    "columns = 5\n",
    "for i, image in enumerate(images):\n",
    "    plt.subplot(len(images) / columns + 1, columns, i + 1)\n",
    "    plt.imshow(image)"
   ]
  }
 ],
 "metadata": {
  "kernelspec": {
   "display_name": "Python 3",
   "language": "python",
   "name": "python3"
  },
  "language_info": {
   "codemirror_mode": {
    "name": "ipython",
    "version": 3
   },
   "file_extension": ".py",
   "mimetype": "text/x-python",
   "name": "python",
   "nbconvert_exporter": "python",
   "pygments_lexer": "ipython3",
   "version": "3.4.3"
  }
 },
 "nbformat": 4,
 "nbformat_minor": 2
}
